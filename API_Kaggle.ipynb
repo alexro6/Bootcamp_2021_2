{
 "cells": [
  {
   "cell_type": "markdown",
   "metadata": {},
   "source": [
    "## Download no Kaggle"
   ]
  },
  {
   "cell_type": "markdown",
   "metadata": {},
   "source": [
    "Instalando os pacotes:"
   ]
  },
  {
   "cell_type": "code",
   "execution_count": null,
   "metadata": {},
   "outputs": [],
   "source": [
    "!pip install kaggle\n",
    "!pip install opendatasets"
   ]
  },
  {
   "cell_type": "markdown",
   "metadata": {},
   "source": [
    "Primeiro, certifique-se de que você tem uma conta no Kaggle.\n",
    "Encontre a sua chave da seguinte maneira: \n",
    "1) Entre na página: https://www.kaggle.com/account <br>\n",
    "2) Clique na sua foto, no canto superior direito. No meu que abre, clique em 'Account' (é a segunda opção do menu).<br>\n",
    "3) Desça a página até encontrar a seção de API. Clique em 'Create New API Token'. Isso vai fazer o download de um arquivo jason com seu nome de usuário e sua chave <br>\n",
    "4) Copie e cole esse arquivo na pasta do Kaggle. No Windows, ela provavelmente estará em C:\\nomedousuario\\.kaggle"
   ]
  },
  {
   "cell_type": "markdown",
   "metadata": {},
   "source": [
    "Importe as bibliotecas:"
   ]
  },
  {
   "cell_type": "code",
   "execution_count": 2,
   "metadata": {},
   "outputs": [],
   "source": [
    "import kaggle\n",
    "import opendatasets as od"
   ]
  },
  {
   "cell_type": "markdown",
   "metadata": {},
   "source": [
    "Use o comando download do pacote opendatasets, passando o link do conjunto de dados. <br>Você pode passar o nome de usuário e senha manualmente, copiando do arquivo json que você baixou nos passos anteriores, ou pode colar esse arquivo na mesma pasta do seu notebook."
   ]
  },
  {
   "cell_type": "code",
   "execution_count": 5,
   "metadata": {},
   "outputs": [
    {
     "name": "stderr",
     "output_type": "stream",
     "text": [
      "  1%|          | 1.00M/82.3M [00:00<00:11, 7.69MB/s]"
     ]
    },
    {
     "name": "stdout",
     "output_type": "stream",
     "text": [
      "Downloading imdb-extensive-dataset.zip to .\\imdb-extensive-dataset\n"
     ]
    },
    {
     "name": "stderr",
     "output_type": "stream",
     "text": [
      "100%|██████████| 82.3M/82.3M [00:08<00:00, 9.86MB/s]\n"
     ]
    },
    {
     "name": "stdout",
     "output_type": "stream",
     "text": [
      "\n"
     ]
    }
   ],
   "source": [
    "od.download (\"https://www.kaggle.com/stefanoleone992/imdb-extensive-dataset\")"
   ]
  },
  {
   "cell_type": "markdown",
   "metadata": {},
   "source": [
    "E pronto! Seus arquivos foram baixados! :)"
   ]
  },
  {
   "cell_type": "code",
   "execution_count": null,
   "metadata": {},
   "outputs": [],
   "source": []
  }
 ],
 "metadata": {
  "kernelspec": {
   "display_name": "Python 3",
   "language": "python",
   "name": "python3"
  },
  "language_info": {
   "codemirror_mode": {
    "name": "ipython",
    "version": 3
   },
   "file_extension": ".py",
   "mimetype": "text/x-python",
   "name": "python",
   "nbconvert_exporter": "python",
   "pygments_lexer": "ipython3",
   "version": "3.8.5"
  }
 },
 "nbformat": 4,
 "nbformat_minor": 4
}
