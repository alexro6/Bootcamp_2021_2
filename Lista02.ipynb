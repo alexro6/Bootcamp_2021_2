{
 "cells": [
  {
   "cell_type": "markdown",
   "metadata": {},
   "source": [
    "# Lista 02 - Funções"
   ]
  },
  {
   "cell_type": "markdown",
   "metadata": {},
   "source": [
    "##### 1. Construa um menu com as seguintes opções: \n",
    "##### a) Soma<br>b) Subtração<br>c) Multiplicação<br>d) Divisão\n",
    "##### Leia 2 números e execute a opção escolhida"
   ]
  },
  {
   "cell_type": "code",
   "execution_count": 1,
   "metadata": {},
   "outputs": [],
   "source": [
    "def menu(op, num1, num2):\n",
    "    if op == 'a':\n",
    "        print(f\"A soma entre {num1} e {num2} é igual a:\", num1+num2)\n",
    "    elif op == 'b':\n",
    "        print(f\"A subtração entre {num1} e {num2} é igual a:\", num1-num2)\n",
    "    elif op == 'c':\n",
    "        print(f\"A multiplicação entre {num1} e {num2} é igual a:\", num1*num2)\n",
    "    elif op == 'd':\n",
    "        try:\n",
    "            print(f\"A divisão entre {num1} e {num2} é igual a:\", num1/num2)\n",
    "        except:\n",
    "            print('Erro! Não é possivel realizar essa divisão')"
   ]
  },
  {
   "cell_type": "code",
   "execution_count": 2,
   "metadata": {},
   "outputs": [
    {
     "name": "stdin",
     "output_type": "stream",
     "text": [
      "Entre com \"a\" para soma, \"b\" para subtração, \"c\" para multiplicação e \"d\" para divisão: c\n",
      "Entre com dois números, separados por espaço, para realizar a operação escolhida acima: 1 3\n"
     ]
    },
    {
     "name": "stdout",
     "output_type": "stream",
     "text": [
      "A multiplicação entre 1.0 e 3.0 é igual a: 3.0\n"
     ]
    }
   ],
   "source": [
    "operacao = input('Entre com \"a\" para soma, \"b\" para subtração, \"c\" para multiplicação e \"d\" para divisão:')\n",
    "while ((operacao == 'a') or (operacao == 'b') or (operacao == 'c') or (operacao == 'd')) == False:\n",
    "    operacao = input('O valor não é válido, digite \"a\", \"b\", \"c\" ou \"d\":')\n",
    "    \n",
    "n1, n2 = input('Entre com dois números, separados por espaço, para realizar a operação escolhida acima:').split()\n",
    "while (n1.isnumeric() and n2.isnumeric()) == False:\n",
    "    print(f\"Os valores {n1} e {n2} não são válidos, tente novamente\")\n",
    "    n1, n2 = input().split()\n",
    "    \n",
    "menu(operacao, float(n1), float(n2))\n"
   ]
  },
  {
   "cell_type": "markdown",
   "metadata": {},
   "source": [
    "##### 2. Escreva um programa que leia um número e imprima no formato de um CPF \n",
    "##### Ex: 11122233344 -> 111.222.333-44"
   ]
  },
  {
   "cell_type": "code",
   "execution_count": 3,
   "metadata": {},
   "outputs": [
    {
     "name": "stdout",
     "output_type": "stream",
     "text": [
      "111.222.333-44\n"
     ]
    }
   ],
   "source": [
    "def printCPF(n):\n",
    "    n_str = str(n)\n",
    "    cpf = f\"{n_str[0:3]}.{n_str[3:6]}.{n_str[6:9]}-{n_str[9:]}\"\n",
    "    print(cpf)\n",
    "    \n",
    "\n",
    "n = printCPF(11122233344)"
   ]
  },
  {
   "cell_type": "markdown",
   "metadata": {},
   "source": [
    "##### 3. Escreva um programa que calcule o fatorial de um número (entre com o número usando input). <br> Sabendo que:\n",
    "##### a) n! = n(n-1)(n-2)...1 <br> b) 1! = 1 <br> c) 0! = 1 "
   ]
  },
  {
   "cell_type": "code",
   "execution_count": 4,
   "metadata": {},
   "outputs": [
    {
     "name": "stdin",
     "output_type": "stream",
     "text": [
      "Digite um numero positivo e inteiro para calcular o fatorial: 3\n"
     ]
    },
    {
     "name": "stdout",
     "output_type": "stream",
     "text": [
      "Fatorial de 3 = 6\n"
     ]
    }
   ],
   "source": [
    "N=input('Digite um numero positivo e inteiro para calcular o fatorial:')\n",
    "while N.isnumeric() == False:  #Verifica se a entrada é um número inteiro\n",
    "    N = input('Isso não é um número inteiro positivo. Por favor, digite um número inteiro e positivo:')\n",
    "termo = int(N)\n",
    "fat = 1\n",
    "if termo <= 1:\n",
    "    print(f'Fatorial de {N} = 1')\n",
    "else:\n",
    "    while termo >= 2:\n",
    "        fat = fat*termo \n",
    "        termo -= 1          #O mesmo que termo = termo - 1\n",
    "    print(f'Fatorial de {N} = {fat}')\n",
    "    "
   ]
  },
  {
   "cell_type": "markdown",
   "metadata": {},
   "source": [
    "##### 4. Dado a lista, abaixo, de temperaturas da cidade de Boulder em Fahrenheit (F): \n",
    "##### F = [47,49,57,64,72,83,89,87,79,67,55,47]; (Temperaturas em F da cidade de Boulder)\n",
    "##### 4.1) Crie uma lista convertendo para Celsius (C). Para converter use a fórmula C = (F-32)*(5/9); Print os valores na tela.\n"
   ]
  },
  {
   "cell_type": "code",
   "execution_count": 5,
   "metadata": {},
   "outputs": [
    {
     "data": {
      "text/plain": [
       "[8.33,\n",
       " 9.44,\n",
       " 13.89,\n",
       " 17.78,\n",
       " 22.22,\n",
       " 28.33,\n",
       " 31.67,\n",
       " 30.56,\n",
       " 26.11,\n",
       " 19.44,\n",
       " 12.78,\n",
       " 8.33]"
      ]
     },
     "execution_count": 5,
     "metadata": {},
     "output_type": "execute_result"
    }
   ],
   "source": [
    "F = [47,49,57,64,72,83,89,87,79,67,55,47]\n",
    "C = []\n",
    "for temp in F:\n",
    "    C.append(round((temp-32)*(5/9),2))\n",
    "C"
   ]
  },
  {
   "cell_type": "markdown",
   "metadata": {},
   "source": [
    "##### 4.2) Crie uma função que receba a lista de temperaturas em Fahrenheit e retorna uma lista em graus Celsius. Print a lista na tela.\n"
   ]
  },
  {
   "cell_type": "code",
   "execution_count": 6,
   "metadata": {},
   "outputs": [],
   "source": [
    "def Celsius(listaF):\n",
    "    listaC = []\n",
    "    for temp in listaF:\n",
    "        listaC.append(round((temp-32)*(5/9),2))\n",
    "    return listaC"
   ]
  },
  {
   "cell_type": "code",
   "execution_count": 7,
   "metadata": {},
   "outputs": [
    {
     "name": "stdout",
     "output_type": "stream",
     "text": [
      "Temperaturas em Celsius: [8.33, 9.44, 13.89, 17.78, 22.22, 28.33, 31.67, 30.56, 26.11, 19.44, 12.78, 8.33]\n"
     ]
    }
   ],
   "source": [
    "print('Temperaturas em Celsius:',Celsius(F))"
   ]
  },
  {
   "cell_type": "markdown",
   "metadata": {},
   "source": [
    "##### 4.3) (Desafio) Generalize a função criada em 4.2 usando *args para que a função receba uma lista de tamanho variável."
   ]
  },
  {
   "cell_type": "code",
   "execution_count": 8,
   "metadata": {},
   "outputs": [],
   "source": [
    "def CelsiusList(*args):\n",
    "    listaC_extend=[]\n",
    "    for lista in args:\n",
    "        listaC_extend.extend(Celsius(lista))\n",
    "    return listaC_extend"
   ]
  },
  {
   "cell_type": "code",
   "execution_count": 9,
   "metadata": {},
   "outputs": [],
   "source": [
    "lista1 = [12,65,90]\n",
    "lista2 = [99,86,67,78]\n",
    "lista3 = [56,87,93,46]"
   ]
  },
  {
   "cell_type": "code",
   "execution_count": 10,
   "metadata": {},
   "outputs": [
    {
     "data": {
      "text/plain": [
       "[-11.11, 18.33, 32.22, 37.22, 30.0, 19.44, 25.56, 13.33, 30.56, 33.89, 7.78]"
      ]
     },
     "execution_count": 10,
     "metadata": {},
     "output_type": "execute_result"
    }
   ],
   "source": [
    "CelsiusList(lista1,lista2,lista3)"
   ]
  },
  {
   "cell_type": "code",
   "execution_count": null,
   "metadata": {},
   "outputs": [],
   "source": []
  }
 ],
 "metadata": {
  "kernelspec": {
   "display_name": "Python 3",
   "language": "python",
   "name": "python3"
  },
  "language_info": {
   "codemirror_mode": {
    "name": "ipython",
    "version": 3
   },
   "file_extension": ".py",
   "mimetype": "text/x-python",
   "name": "python",
   "nbconvert_exporter": "python",
   "pygments_lexer": "ipython3",
   "version": "3.8.5"
  }
 },
 "nbformat": 4,
 "nbformat_minor": 4
}
