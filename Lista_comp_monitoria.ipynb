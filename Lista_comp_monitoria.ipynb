{
 "cells": [
  {
   "cell_type": "markdown",
   "metadata": {},
   "source": [
    "## Lista de exercícios complementares proposta na monitoria em 29/07/2021"
   ]
  },
  {
   "cell_type": "markdown",
   "metadata": {},
   "source": [
    "#### 1.Imprima a tabuada do 1 ao 10."
   ]
  },
  {
   "cell_type": "code",
   "execution_count": 7,
   "metadata": {},
   "outputs": [
    {
     "name": "stdout",
     "output_type": "stream",
     "text": [
      "1x1= 1 1x2= 2 1x3= 3 1x4= 4 1x5= 5 1x6= 6 1x7= 7 1x8= 8 1x9= 9 1x10= 10 \n",
      "\n",
      "2x1= 2 2x2= 4 2x3= 6 2x4= 8 2x5= 10 2x6= 12 2x7= 14 2x8= 16 2x9= 18 2x10= 20 \n",
      "\n",
      "3x1= 3 3x2= 6 3x3= 9 3x4= 12 3x5= 15 3x6= 18 3x7= 21 3x8= 24 3x9= 27 3x10= 30 \n",
      "\n",
      "4x1= 4 4x2= 8 4x3= 12 4x4= 16 4x5= 20 4x6= 24 4x7= 28 4x8= 32 4x9= 36 4x10= 40 \n",
      "\n",
      "5x1= 5 5x2= 10 5x3= 15 5x4= 20 5x5= 25 5x6= 30 5x7= 35 5x8= 40 5x9= 45 5x10= 50 \n",
      "\n",
      "6x1= 6 6x2= 12 6x3= 18 6x4= 24 6x5= 30 6x6= 36 6x7= 42 6x8= 48 6x9= 54 6x10= 60 \n",
      "\n",
      "7x1= 7 7x2= 14 7x3= 21 7x4= 28 7x5= 35 7x6= 42 7x7= 49 7x8= 56 7x9= 63 7x10= 70 \n",
      "\n",
      "8x1= 8 8x2= 16 8x3= 24 8x4= 32 8x5= 40 8x6= 48 8x7= 56 8x8= 64 8x9= 72 8x10= 80 \n",
      "\n",
      "9x1= 9 9x2= 18 9x3= 27 9x4= 36 9x5= 45 9x6= 54 9x7= 63 9x8= 72 9x9= 81 9x10= 90 \n",
      "\n",
      "10x1= 10 10x2= 20 10x3= 30 10x4= 40 10x5= 50 10x6= 60 10x7= 70 10x8= 80 10x9= 90 10x10= 100 \n",
      "\n"
     ]
    }
   ],
   "source": [
    "sequencia = [*range(1,11)]\n",
    "for num in sequencia:\n",
    "    for num2 in sequencia:\n",
    "        print(f\"{num}x{num2}=\",num*num2, end=\" \")\n",
    "    print('\\n')"
   ]
  },
  {
   "cell_type": "markdown",
   "metadata": {},
   "source": [
    "#### 2.Considerando os números inteiros de 1 a 100, escreva um código que imprima apenas os números divisíveis por 3."
   ]
  },
  {
   "cell_type": "code",
   "execution_count": 10,
   "metadata": {},
   "outputs": [
    {
     "name": "stdout",
     "output_type": "stream",
     "text": [
      "3  6  9  12  15  18  21  24  27  30  33  36  39  42  45  48  51  54  57  60  63  66  69  72  75  78  81  84  87  90  93  96  99  "
     ]
    }
   ],
   "source": [
    "valores = [*range(1,101)]\n",
    "for num in valores:\n",
    "    if (num%3 == 0):\n",
    "        print(num,' ',  end=\"\")"
   ]
  },
  {
   "cell_type": "markdown",
   "metadata": {},
   "source": [
    "#### 3.Imprima os seguintes números na forma abaixo:\n",
    "\n",
    "#### 1 <br>2  2<br>3  3  3<br>4  4  4  4<br>5  5  5  5  5 "
   ]
  },
  {
   "cell_type": "code",
   "execution_count": 13,
   "metadata": {},
   "outputs": [
    {
     "name": "stdout",
     "output_type": "stream",
     "text": [
      "['1']\n",
      "['2', '2']\n",
      "['3', '3', '3']\n",
      "['4', '4', '4', '4']\n",
      "['5', '5', '5', '5', '5']\n"
     ]
    }
   ],
   "source": [
    "for num in range(1,6):\n",
    "    print(list(str(num))*num)"
   ]
  },
  {
   "cell_type": "code",
   "execution_count": 17,
   "metadata": {},
   "outputs": [
    {
     "name": "stdout",
     "output_type": "stream",
     "text": [
      "1   \n",
      "\n",
      "2   2   \n",
      "\n",
      "3   3   3   \n",
      "\n",
      "4   4   4   4   \n",
      "\n",
      "5   5   5   5   5   \n",
      "\n"
     ]
    }
   ],
   "source": [
    "for num in range(1,6):\n",
    "    for i in range(num):\n",
    "        print(num, ' ', end=\" \")\n",
    "    print(\"\\n\")"
   ]
  },
  {
   "cell_type": "markdown",
   "metadata": {},
   "source": [
    "#### 4.Dadas as duas listas:\n",
    "#### Lista 1 : [0, 4, 17, 8, 25, 6, 3, 99, 62, 7, 30, 71,]\n",
    "#### Lista 2 : [10, 11, 27, 18, 5, 62, 3, 94, 2, 7]\n",
    "#### Crie uma nova lista que contenha apenas números ímpares da primeira lista e números pares da segunda lista."
   ]
  },
  {
   "cell_type": "code",
   "execution_count": 19,
   "metadata": {},
   "outputs": [
    {
     "data": {
      "text/plain": [
       "[17, 25, 3, 99, 7, 71, 10, 18, 62, 94, 2]"
      ]
     },
     "execution_count": 19,
     "metadata": {},
     "output_type": "execute_result"
    }
   ],
   "source": [
    "Lista1 = [0, 4, 17, 8, 25, 6, 3, 99, 62, 7, 30, 71,]\n",
    "Lista2 = [10, 11, 27, 18, 5, 62, 3, 94, 2, 7]\n",
    "Lista3 = []\n",
    "\n",
    "for item in Lista1:\n",
    "    if (item%2) != 0:\n",
    "        Lista3.append(item)\n",
    "for item in Lista2:\n",
    "    if (item%2) == 0:\n",
    "        Lista3.append(item)\n",
    "Lista3"
   ]
  },
  {
   "cell_type": "markdown",
   "metadata": {},
   "source": [
    "### 5.Dados dois números inteiros, escreva um código que:\n",
    "### a)Retorne com o produto dos números."
   ]
  },
  {
   "cell_type": "code",
   "execution_count": 20,
   "metadata": {},
   "outputs": [
    {
     "data": {
      "text/plain": [
       "12"
      ]
     },
     "execution_count": 20,
     "metadata": {},
     "output_type": "execute_result"
    }
   ],
   "source": [
    "A = 6\n",
    "B = 2\n",
    "prod = A*B\n",
    "prod"
   ]
  },
  {
   "cell_type": "markdown",
   "metadata": {},
   "source": [
    "### b)Se o produto for maior que 1000, retorne a soma."
   ]
  },
  {
   "cell_type": "code",
   "execution_count": 24,
   "metadata": {},
   "outputs": [
    {
     "name": "stdout",
     "output_type": "stream",
     "text": [
      "O produto é menor ou igual a 1000, o resultado da soma é: 110\n"
     ]
    }
   ],
   "source": [
    "A = 10\n",
    "B = 100\n",
    "if (A*B) > 1000:\n",
    "    print('O produto é maior que 1000, o resultado é:', A*B)\n",
    "else:\n",
    "    print('O produto é menor ou igual a 1000, o resultado da soma é:', A+B)"
   ]
  },
  {
   "cell_type": "markdown",
   "metadata": {},
   "source": [
    "### c)Execute a tarefa acima para duas listas de números."
   ]
  },
  {
   "cell_type": "code",
   "execution_count": null,
   "metadata": {},
   "outputs": [],
   "source": []
  },
  {
   "cell_type": "code",
   "execution_count": null,
   "metadata": {},
   "outputs": [],
   "source": [
    "listaA = [*range(20)]\n",
    "listaB = [*range(0,100,2)]\n",
    "\n",
    "for item in listaA:\n",
    "if (A*B) > 1000:\n",
    "    print('O produto é maior que 1000, o resultado é:', A*B)\n",
    "else:\n",
    "    print('O produto é menor ou igual a 1000, o resultado da soma é:', A+B)"
   ]
  }
 ],
 "metadata": {
  "kernelspec": {
   "display_name": "Python 3",
   "language": "python",
   "name": "python3"
  },
  "language_info": {
   "codemirror_mode": {
    "name": "ipython",
    "version": 3
   },
   "file_extension": ".py",
   "mimetype": "text/x-python",
   "name": "python",
   "nbconvert_exporter": "python",
   "pygments_lexer": "ipython3",
   "version": "3.8.5"
  }
 },
 "nbformat": 4,
 "nbformat_minor": 4
}
