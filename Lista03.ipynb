{
 "cells": [
  {
   "cell_type": "markdown",
   "metadata": {},
   "source": [
    "# Lista 03  - Classes "
   ]
  },
  {
   "cell_type": "markdown",
   "metadata": {},
   "source": [
    "##### 1) Crie uma classe Conta_Bancária que tenha pelo menos os seguintes métodos: \n",
    "##### a) Saldo <br> b) Deposito <br> c) Saque <br>Obs.: a classe pode ter outros métodos "
   ]
  },
  {
   "cell_type": "code",
   "execution_count": 1,
   "metadata": {},
   "outputs": [],
   "source": [
    "# Criando a classe\n",
    "class Conta_Bancaria(object):    \n",
    "    # Constructor\n",
    "    def __init__(self, montante = 0):\n",
    "        self.total = montante\n",
    "    \n",
    "    # Método Saldo\n",
    "    def saldo(self):\n",
    "        print('O valor do saldo é:',self.total)\n",
    "        return(self.total)\n",
    "    \n",
    "    # Método Depósito\n",
    "    def deposito(self, val_dep = 0):\n",
    "        self.total = self.total + val_dep\n",
    "        print(f'O valor do saldo após deposito de {val_dep} é: {self.total}')\n",
    "        return(self.total)\n",
    "    \n",
    "    # Método Saque\n",
    "    def saque(self, val_saq = 0):\n",
    "        self.total = self.total - val_saq\n",
    "        print(f'O valor do saldo após saque de {val_saq} é: {self.total}')\n",
    "        return(self.total)"
   ]
  },
  {
   "cell_type": "code",
   "execution_count": 2,
   "metadata": {},
   "outputs": [],
   "source": [
    "ContaMaria = Conta_Bancaria(1000)"
   ]
  },
  {
   "cell_type": "code",
   "execution_count": 3,
   "metadata": {},
   "outputs": [
    {
     "name": "stdout",
     "output_type": "stream",
     "text": [
      "O valor do saldo é: 1000\n"
     ]
    },
    {
     "data": {
      "text/plain": [
       "1000"
      ]
     },
     "execution_count": 3,
     "metadata": {},
     "output_type": "execute_result"
    }
   ],
   "source": [
    "ContaMaria.saldo()"
   ]
  },
  {
   "cell_type": "code",
   "execution_count": 4,
   "metadata": {},
   "outputs": [
    {
     "name": "stdout",
     "output_type": "stream",
     "text": [
      "O valor do saldo após deposito de 100 é: 1100\n"
     ]
    },
    {
     "data": {
      "text/plain": [
       "1100"
      ]
     },
     "execution_count": 4,
     "metadata": {},
     "output_type": "execute_result"
    }
   ],
   "source": [
    "ContaMaria.deposito(100)"
   ]
  },
  {
   "cell_type": "code",
   "execution_count": 5,
   "metadata": {},
   "outputs": [
    {
     "name": "stdout",
     "output_type": "stream",
     "text": [
      "O valor do saldo após saque de 80 é: 1020\n"
     ]
    },
    {
     "data": {
      "text/plain": [
       "1020"
      ]
     },
     "execution_count": 5,
     "metadata": {},
     "output_type": "execute_result"
    }
   ],
   "source": [
    "ContaMaria.saque(80)"
   ]
  },
  {
   "cell_type": "markdown",
   "metadata": {},
   "source": [
    "##### 2) De que forma poderíamos implementar um classe Poupança que herde as funcionalidades/atributos/métodos da classe Conta_Bancária e que tenha os seguintes métodos/atributos:\n",
    "##### a) Taxa de rendimento <br> b) Rendimento mensal <br> c) e outros"
   ]
  },
  {
   "cell_type": "code",
   "execution_count": 6,
   "metadata": {},
   "outputs": [],
   "source": [
    "class Poupanca(Conta_Bancaria):\n",
    "    def __init__(self, montante):\n",
    "        super().__init__(montante)\n",
    "        \n",
    "    def rend_mensal(self,juros):\n",
    "        self.rend_men = self.total*juros \n",
    "        print(f'O rendimento mensal foi: {self.rend_men}') \n",
    "        self.total += self.rend_men\n",
    "        print(f'O saldo após o rendimento é:{self.total}') \n",
    "        return\n",
    "\n",
    "    def taxa_ren(self,meses,juros):\n",
    "        self.tx_ren = self.total*meses*juros\n",
    "        print(f'A taxa de rendimento de {meses} meses, com juros de {juros} foi: {self.tx_ren}')\n",
    "        self.total += self.tx_ren\n",
    "        print(f'O saldo após o rendimento é:{self.total}')\n",
    "        return\n"
   ]
  },
  {
   "cell_type": "code",
   "execution_count": 7,
   "metadata": {},
   "outputs": [],
   "source": [
    "PoupancaMaria = Poupanca(500)"
   ]
  },
  {
   "cell_type": "code",
   "execution_count": 8,
   "metadata": {},
   "outputs": [
    {
     "name": "stdout",
     "output_type": "stream",
     "text": [
      "O valor do saldo é: 500\n"
     ]
    },
    {
     "data": {
      "text/plain": [
       "500"
      ]
     },
     "execution_count": 8,
     "metadata": {},
     "output_type": "execute_result"
    }
   ],
   "source": [
    "PoupancaMaria.saldo()"
   ]
  },
  {
   "cell_type": "code",
   "execution_count": 9,
   "metadata": {},
   "outputs": [
    {
     "name": "stdout",
     "output_type": "stream",
     "text": [
      "O rendimento mensal foi: 50.0\n",
      "O saldo após o rendimento é:550.0\n"
     ]
    }
   ],
   "source": [
    "PoupancaMaria.rend_mensal(0.1)"
   ]
  },
  {
   "cell_type": "code",
   "execution_count": 10,
   "metadata": {},
   "outputs": [
    {
     "name": "stdout",
     "output_type": "stream",
     "text": [
      "A taxa de rendimento de 10 meses, com juros de 0.05 foi: 275.0\n",
      "O saldo após o rendimento é:825.0\n"
     ]
    }
   ],
   "source": [
    "PoupancaMaria.taxa_ren(10,0.05)"
   ]
  },
  {
   "cell_type": "code",
   "execution_count": null,
   "metadata": {},
   "outputs": [],
   "source": []
  },
  {
   "cell_type": "code",
   "execution_count": null,
   "metadata": {},
   "outputs": [],
   "source": []
  }
 ],
 "metadata": {
  "kernelspec": {
   "display_name": "Python 3",
   "language": "python",
   "name": "python3"
  },
  "language_info": {
   "codemirror_mode": {
    "name": "ipython",
    "version": 3
   },
   "file_extension": ".py",
   "mimetype": "text/x-python",
   "name": "python",
   "nbconvert_exporter": "python",
   "pygments_lexer": "ipython3",
   "version": "3.8.5"
  }
 },
 "nbformat": 4,
 "nbformat_minor": 4
}
