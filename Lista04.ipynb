{
 "cells": [
  {
   "cell_type": "markdown",
   "metadata": {},
   "source": [
    "# Lista 04 - Listas aninhadas e dicionários \n",
    "\n",
    "1) Os filmes/séries podem ser classificados conforme o seu genero (ação,comédia, drama, terror etc). Considerando as classificações abaixo:\n",
    "\n",
    "a) Ação = Jumanji, Projeto Gemini,The old guard,WandaVision.\n",
    "\n",
    "b) Comédia = Jumanji,How I Met Your Mother,Friends, Amigos para sempre.\n",
    "\n",
    "c) Drama = Amigos para sempre, After,Game of Thrones, WandaVision.\n",
    "\n",
    "Tarefas:\n",
    "\n",
    "1.1 - Cria uma lista de listas para representar cada um dos conjuntos acima.\n",
    "\n",
    "1.2 - Usando a lista criada em 3.1, escreva um programa que \"print\" na tela a quantidade de caracteres de cada título."
   ]
  },
  {
   "cell_type": "code",
   "execution_count": 1,
   "metadata": {},
   "outputs": [
    {
     "data": {
      "text/plain": [
       "[['Jumanji', 'Projeto Gemini', 'The old guard', 'WandaVision'],\n",
       " ['Jumanji', 'How I Met Your Mother', 'Friends', 'Amigos para sempre'],\n",
       " ['Amigos para sempre', 'After', 'Game of Thrones', 'WandaVision']]"
      ]
     },
     "execution_count": 1,
     "metadata": {},
     "output_type": "execute_result"
    }
   ],
   "source": [
    "filmes = [[\"Jumanji\", \"Projeto Gemini\",\"The old guard\",\"WandaVision\"],\n",
    "          [\"Jumanji\",\"How I Met Your Mother\",\"Friends\", \"Amigos para sempre\"],\n",
    "          [\"Amigos para sempre\", \"After\",\"Game of Thrones\", \"WandaVision\"]]\n",
    "filmes"
   ]
  },
  {
   "cell_type": "code",
   "execution_count": 3,
   "metadata": {},
   "outputs": [
    {
     "name": "stdout",
     "output_type": "stream",
     "text": [
      "Quantidade de caracteres em Jumanji = 7\n",
      "Quantidade de caracteres em Projeto Gemini = 14\n",
      "Quantidade de caracteres em The old guard = 13\n",
      "Quantidade de caracteres em WandaVision = 11\n",
      "Quantidade de caracteres em Jumanji = 7\n",
      "Quantidade de caracteres em How I Met Your Mother = 21\n",
      "Quantidade de caracteres em Friends = 7\n",
      "Quantidade de caracteres em Amigos para sempre = 18\n",
      "Quantidade de caracteres em Amigos para sempre = 18\n",
      "Quantidade de caracteres em After = 5\n",
      "Quantidade de caracteres em Game of Thrones = 15\n",
      "Quantidade de caracteres em WandaVision = 11\n"
     ]
    }
   ],
   "source": [
    "for lista in filmes:\n",
    "    for filme in lista:\n",
    "        print('Quantidade de caracteres em',filme,'=',len(filme))"
   ]
  },
  {
   "cell_type": "markdown",
   "metadata": {},
   "source": [
    "Considerando o problema 1):\n",
    "\n",
    "2.1) Crie um dicionário no qual cada chave representa o genero do filme;\n",
    "\n",
    "2.2) Em um sistema de recomendação baseado em conteúdos, deseja-se saber as classificações (generos) de cada filme. Faça um programa que usando o dicionário criado em 2.1, retorne os generos associados a cada filme. (Dica: use um outro dicionário)."
   ]
  },
  {
   "cell_type": "code",
   "execution_count": 5,
   "metadata": {},
   "outputs": [
    {
     "data": {
      "text/plain": [
       "{'Acao': ['Jumanji', 'Projeto Gemini', 'The old guard', 'WandaVision'],\n",
       " 'Comedia': ['Jumanji',\n",
       "  'How I Met Your Mother',\n",
       "  'Friends',\n",
       "  'Amigos para sempre'],\n",
       " 'Drama': ['Amigos para sempre', 'After', 'Game of Thrones', 'WandaVision']}"
      ]
     },
     "execution_count": 5,
     "metadata": {},
     "output_type": "execute_result"
    }
   ],
   "source": [
    "dic_gen = {'Acao':filmes[0],'Comedia':filmes[1],'Drama':filmes[2]}\n",
    "dic_gen"
   ]
  },
  {
   "cell_type": "code",
   "execution_count": 13,
   "metadata": {},
   "outputs": [
    {
     "data": {
      "text/plain": [
       "{'Jumanji': ['Acao', 'Comedia'],\n",
       " 'Projeto Gemini': ['Acao'],\n",
       " 'The old guard': ['Acao'],\n",
       " 'WandaVision': ['Acao', 'Drama'],\n",
       " 'How I Met Your Mother': ['Comedia'],\n",
       " 'Friends': ['Comedia'],\n",
       " 'Amigos para sempre': ['Comedia', 'Drama'],\n",
       " 'After': ['Drama'],\n",
       " 'Game of Thrones': ['Drama']}"
      ]
     },
     "execution_count": 13,
     "metadata": {},
     "output_type": "execute_result"
    }
   ],
   "source": [
    "#Novo dicionario\n",
    "novo_dic = {}\n",
    "for key, lista in dic_gen.items():\n",
    "    for item in lista:        \n",
    "        if item in novo_dic:\n",
    "            novo_dic[item].append(key)\n",
    "        else:\n",
    "            novo_dic[item] = [key]\n",
    "novo_dic"
   ]
  },
  {
   "cell_type": "code",
   "execution_count": null,
   "metadata": {},
   "outputs": [],
   "source": []
  }
 ],
 "metadata": {
  "kernelspec": {
   "display_name": "Python 3",
   "language": "python",
   "name": "python3"
  },
  "language_info": {
   "codemirror_mode": {
    "name": "ipython",
    "version": 3
   },
   "file_extension": ".py",
   "mimetype": "text/x-python",
   "name": "python",
   "nbconvert_exporter": "python",
   "pygments_lexer": "ipython3",
   "version": "3.8.5"
  }
 },
 "nbformat": 4,
 "nbformat_minor": 4
}
