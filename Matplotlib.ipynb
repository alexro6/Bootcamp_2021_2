{
 "cells": [
  {
   "cell_type": "markdown",
   "metadata": {},
   "source": [
    "# Matplotlib"
   ]
  },
  {
   "cell_type": "code",
   "execution_count": null,
   "metadata": {},
   "outputs": [],
   "source": [
    "#!pip install matplotlib"
   ]
  },
  {
   "cell_type": "code",
   "execution_count": null,
   "metadata": {},
   "outputs": [],
   "source": [
    "import matplotlib.pyplot as plt\n",
    "import numpy as np\n",
    "import pandas as pd"
   ]
  },
  {
   "cell_type": "markdown",
   "metadata": {},
   "source": [
    "## Gráficos de linha e marcadores"
   ]
  },
  {
   "cell_type": "markdown",
   "metadata": {},
   "source": [
    "O jeito mais simples de criar uma figura com eixos é usar o método plt.plot([lista do eixo x],[lista do eixo y])"
   ]
  },
  {
   "cell_type": "code",
   "execution_count": null,
   "metadata": {},
   "outputs": [],
   "source": [
    "eixo_x = [0,1,2,3,4,5,6,7,8,9,10]\n",
    "eixo_y = [0,1,1,1,2,2,3,2,2,0,0]"
   ]
  },
  {
   "cell_type": "code",
   "execution_count": null,
   "metadata": {},
   "outputs": [],
   "source": [
    "plot1 = plt.plot(eixo_x,eixo_y)"
   ]
  },
  {
   "cell_type": "markdown",
   "metadata": {},
   "source": [
    "Você pode escolher a cor e o estilo do plot acrescentando uma string como terceiro argumento do plot. Por default, é plotada uma linha sólida azul (string 'b-'). Para mudar a cor da linha, faça da seguinte forma:"
   ]
  },
  {
   "cell_type": "code",
   "execution_count": null,
   "metadata": {},
   "outputs": [],
   "source": [
    "plot2 = plt.plot(eixo_x,eixo_y, 'r')"
   ]
  },
  {
   "cell_type": "markdown",
   "metadata": {},
   "source": [
    "Os códigos das cores básicas são: <br>\n",
    "'b' - azul<br>\n",
    "'g' - verde<br>\n",
    "'r' - vermelho<br>\n",
    "'c' - azul claro (ciano)<br>\n",
    "'m' - magenta<br>\n",
    "'y' - amarelo<br>\n",
    "'k' - preto<br>\n",
    "'w' - branco<br>\n",
    "Confira outras cores em:\n",
    "https://matplotlib.org/stable/gallery/color/named_colors.html"
   ]
  },
  {
   "cell_type": "markdown",
   "metadata": {},
   "source": [
    "É possível trocar o símbolo do plot para linhas não sólidas e adicionar marcadores. Alguns exemplos:<br>\n",
    "'--' para linha tracejada<br> \n",
    "'o' para círculos<br>\n",
    "'s' para quadrados<br>\n",
    "'^' para triângulos<br>\n",
    "Veja a lista completa em: https://matplotlib.org/stable/api/_as_gen/matplotlib.pyplot.plot.html\n"
   ]
  },
  {
   "cell_type": "code",
   "execution_count": null,
   "metadata": {},
   "outputs": [],
   "source": [
    "plot3 = plt.plot(eixo_x,eixo_y, 'gD:')"
   ]
  },
  {
   "cell_type": "markdown",
   "metadata": {},
   "source": [
    "Para alterar a espessura da linha, basta setar 'linewidth':"
   ]
  },
  {
   "cell_type": "code",
   "execution_count": null,
   "metadata": {},
   "outputs": [],
   "source": [
    "plot4 = plt.plot(eixo_x, eixo_y,'k', linewidth=5.0)"
   ]
  },
  {
   "cell_type": "markdown",
   "metadata": {},
   "source": [
    "É possível nomear o gráfico e colocar rótulos nos eixos da seguinte forma:"
   ]
  },
  {
   "cell_type": "code",
   "execution_count": null,
   "metadata": {},
   "outputs": [],
   "source": [
    "plot5 = plt.plot(eixo_x, eixo_y,'k-+', linewidth=0.5)\n",
    "plt.title('Primeiro plot com título e labels')\n",
    "plt.xlabel('Números inteiros de 0 a 10')\n",
    "plt.ylabel('Números aleatórios de exemplo')\n",
    "plt.show()"
   ]
  },
  {
   "cell_type": "markdown",
   "metadata": {},
   "source": [
    "É possível plotar mais de uma série no mesmo gráfico, da seguinte forma:"
   ]
  },
  {
   "cell_type": "code",
   "execution_count": null,
   "metadata": {},
   "outputs": [],
   "source": [
    "array_x = np.arange(20)"
   ]
  },
  {
   "cell_type": "code",
   "execution_count": null,
   "metadata": {},
   "outputs": [],
   "source": [
    "plot6 = plt.plot(array_x, array_x,'r-',array_x, array_x*2,'y:', array_x, array_x**2,'c.')\n",
    "plt.title('Plots de y=x, y=2x  e y=x²')\n",
    "plt.xlabel('Números inteiros de 0 a 19')\n",
    "plt.ylabel('Y de acordo com cada equação')\n",
    "plt.show()"
   ]
  },
  {
   "cell_type": "markdown",
   "metadata": {},
   "source": [
    "Exercício: Vamos criar um gráfico de linhas com:\n",
    "\n",
    "- 3 séries diferentes, cada uma com uma cor e estilo\n",
    "- nomes nos eixos"
   ]
  },
  {
   "cell_type": "code",
   "execution_count": null,
   "metadata": {},
   "outputs": [],
   "source": [
    "#Resposta"
   ]
  },
  {
   "cell_type": "markdown",
   "metadata": {},
   "source": [
    "## Gráfico de dispersão"
   ]
  },
  {
   "cell_type": "code",
   "execution_count": null,
   "metadata": {},
   "outputs": [],
   "source": [
    "#Criando um dataframe para usarmos como exemplo\n",
    "data = {'Potencia':[100, 150, 120, 100, 130, 120],\n",
    "        'Preco':[1000, 1200, 1400, 1100, 1600, 1200]}\n",
    "df_potencia = pd.DataFrame(data)\n",
    "df_potencia"
   ]
  },
  {
   "cell_type": "code",
   "execution_count": null,
   "metadata": {},
   "outputs": [],
   "source": [
    "#scatter plot\n",
    "plot_dispersao = plt.scatter(df_potencia['Potencia'], df_potencia['Preco']) "
   ]
  },
  {
   "cell_type": "markdown",
   "metadata": {},
   "source": [
    "## Gráfico de Barras"
   ]
  },
  {
   "cell_type": "code",
   "execution_count": null,
   "metadata": {},
   "outputs": [],
   "source": [
    "#Criando um dataframe para usarmos como exemplo\n",
    "data = {'Mes':['Jan', 'Fev', 'Mar', 'Abr', 'Mai','Jun'],\n",
    "        'Temp':[33, 31, 28, 24, 22, 20]}\n",
    "df_temp = pd.DataFrame(data)\n",
    "df_temp"
   ]
  },
  {
   "cell_type": "code",
   "execution_count": null,
   "metadata": {},
   "outputs": [],
   "source": [
    "plot_bar = plt.bar(df_temp['Mes'], df_temp['Temp'])"
   ]
  },
  {
   "cell_type": "code",
   "execution_count": null,
   "metadata": {},
   "outputs": [],
   "source": [
    "plot_barh = plt.barh(df_temp['Mes'], df_temp['Temp'])"
   ]
  },
  {
   "cell_type": "markdown",
   "metadata": {},
   "source": [
    "### Gráficos com múltiplas séries de dados"
   ]
  },
  {
   "cell_type": "code",
   "execution_count": null,
   "metadata": {},
   "outputs": [],
   "source": [
    "#Adiciona uma coluna no dataframe\n",
    "df_temp['Temp_Max'] = [38, 36, 34, 27, 25, 25]"
   ]
  },
  {
   "cell_type": "code",
   "execution_count": null,
   "metadata": {},
   "outputs": [],
   "source": [
    "df_temp.plot(x='Mes', y=['Temp', 'Temp_Max'], kind=\"bar\")\n",
    "plt.show()"
   ]
  },
  {
   "cell_type": "code",
   "execution_count": null,
   "metadata": {},
   "outputs": [],
   "source": [
    "plt.bar(df_temp['Mes'], df_temp['Temp'], color = 'b', label='Temp Media')\n",
    "plt.bar(df_temp['Mes'], df_temp['Temp_Max'], color = 'r', bottom = df_temp['Temp'], label='Temp Max')\n",
    "plt.legend()\n",
    "plt.show()\n"
   ]
  },
  {
   "cell_type": "markdown",
   "metadata": {},
   "source": [
    "Exercício: Crie um gráfico de barras com 3 séries diferentes"
   ]
  },
  {
   "cell_type": "code",
   "execution_count": null,
   "metadata": {},
   "outputs": [],
   "source": [
    "#Resposta"
   ]
  },
  {
   "cell_type": "markdown",
   "metadata": {},
   "source": [
    "## Histograma"
   ]
  },
  {
   "cell_type": "code",
   "execution_count": null,
   "metadata": {},
   "outputs": [],
   "source": [
    "#criando array de números aleatórios:\n",
    "random_array_2 = np.random.randint(0, high=100, size=50, dtype=int)"
   ]
  },
  {
   "cell_type": "code",
   "execution_count": null,
   "metadata": {},
   "outputs": [],
   "source": [
    "histograma = plt.hist(random_array_2,20) #Escolhendo o número de intervalos\n",
    "#histograma = plt.hist(random_array_2)"
   ]
  },
  {
   "cell_type": "markdown",
   "metadata": {},
   "source": [
    "Exercício: Crie uma série de 1000 números inteiros e plote histogramas com: 50, 25 e 10 intervalos"
   ]
  },
  {
   "cell_type": "code",
   "execution_count": null,
   "metadata": {},
   "outputs": [],
   "source": [
    "#Resposta"
   ]
  },
  {
   "cell_type": "markdown",
   "metadata": {},
   "source": [
    "## Gráfico de pizza"
   ]
  },
  {
   "cell_type": "code",
   "execution_count": null,
   "metadata": {},
   "outputs": [],
   "source": [
    "#Criando um dataframe para usarmos como exemplo\n",
    "data = {'Estado':['SP', 'RJ', 'MG', 'PR', 'SC','MS'],\n",
    "        'Funcionarios':[105, 233, 112, 70, 54, 76]}\n",
    "df_funcionarios = pd.DataFrame(data)\n",
    "df_funcionarios"
   ]
  },
  {
   "cell_type": "code",
   "execution_count": null,
   "metadata": {},
   "outputs": [],
   "source": [
    "pie_chart = plt.pie(df_funcionarios['Funcionarios'], labels=df_funcionarios['Estado'], autopct='%.2f%%')"
   ]
  },
  {
   "cell_type": "code",
   "execution_count": null,
   "metadata": {},
   "outputs": [],
   "source": [
    "explode_slices = [0.05, 0.1, 0, 0, 0, 0] \n",
    "pie_chart = plt.pie(df_funcionarios['Funcionarios'], labels=df_funcionarios['Estado'], explode = explode_slices)"
   ]
  },
  {
   "cell_type": "markdown",
   "metadata": {},
   "source": [
    "## Gráfico Polar"
   ]
  },
  {
   "cell_type": "code",
   "execution_count": null,
   "metadata": {},
   "outputs": [],
   "source": [
    "x=np.linspace(0,2*np.pi, 1000)\n",
    "#y = np.sin(2*x)\n",
    "y = np.cos(x)\n",
    "#y = 2*x\n",
    "plt.polar(x, y)\n",
    "plt.show()"
   ]
  },
  {
   "cell_type": "code",
   "execution_count": null,
   "metadata": {},
   "outputs": [],
   "source": []
  },
  {
   "cell_type": "code",
   "execution_count": null,
   "metadata": {},
   "outputs": [],
   "source": []
  },
  {
   "cell_type": "markdown",
   "metadata": {},
   "source": [
    "## Subplots"
   ]
  },
  {
   "cell_type": "markdown",
   "metadata": {},
   "source": [
    "É possivel também colocar vários plots em uma só figura, basta usar \"subplot(número de linhas, número de colunas, número da figura)\""
   ]
  },
  {
   "cell_type": "code",
   "execution_count": null,
   "metadata": {},
   "outputs": [],
   "source": [
    "plt.figure(figsize=(9, 3))\n",
    "\n",
    "plt.subplot(131)\n",
    "plt.pie(df_funcionarios['Funcionarios'], labels=df_funcionarios['Estado'], autopct='%.2f%%')\n",
    "plt.subplot(132)\n",
    "plt.bar(df['Mes'], df['Temp'])\n",
    "plt.subplot(133)\n",
    "plt.plot(eixo_x, eixo_y,'k-+', linewidth=0.5)\n",
    "plt.suptitle('Mais de um plot na mesma figura')\n",
    "plt.show()"
   ]
  },
  {
   "cell_type": "code",
   "execution_count": null,
   "metadata": {},
   "outputs": [],
   "source": [
    "plt.figure(figsize=(4, 12))\n",
    "\n",
    "plt.subplot(311)\n",
    "plt.pie(df_funcionarios['Funcionarios'], labels=df_funcionarios['Estado'], autopct='%.2f%%')\n",
    "plt.subplot(312)\n",
    "plt.bar(df['Mes'], df['Temp'])\n",
    "plt.subplot(313)\n",
    "plt.plot(eixo_x, eixo_y,'k-+', linewidth=0.5)\n",
    "plt.suptitle('Mais de um plot na mesma figura')\n",
    "plt.show()"
   ]
  },
  {
   "cell_type": "markdown",
   "metadata": {},
   "source": [
    "## Outros recursos"
   ]
  },
  {
   "cell_type": "markdown",
   "metadata": {},
   "source": [
    "### Adicionando textos em locais específicos do gráfico:"
   ]
  },
  {
   "cell_type": "code",
   "execution_count": null,
   "metadata": {},
   "outputs": [],
   "source": [
    "plot_texto = plt.plot(eixo_x, eixo_y,'k-+')\n",
    "plt.text(2, 2.3, 'Texto aleatório')\n",
    "#plt.text(8, 0.5, 'Texto aleatório 2')\n",
    "plt.show()"
   ]
  },
  {
   "cell_type": "markdown",
   "metadata": {},
   "source": [
    "#### Adicionando equações"
   ]
  },
  {
   "cell_type": "markdown",
   "metadata": {},
   "source": [
    "Pra escrever equações matemáticas com Matplotlib, utiliza-se a linguagem TeX. O texto aceita letras gregas, sinais matemáticos, subscrito e sobrescrito. É importante colocar o \"r\" antes das aspas, para que a string seja interpretada como \"raw\". O texto também deve estar entre cifrões ($). \n",
    "Mais informações em: https://matplotlib.org/stable/tutorials/text/mathtext.html"
   ]
  },
  {
   "cell_type": "code",
   "execution_count": null,
   "metadata": {},
   "outputs": [],
   "source": [
    "plot_texto = plt.plot(eixo_x, eixo_y,'k-+')\n",
    "plt.text(8, 2.5, r'$\\alpha^{ic} > \\beta_{ic}$')\n",
    "plt.show()"
   ]
  },
  {
   "cell_type": "markdown",
   "metadata": {},
   "source": [
    "#### Anotações"
   ]
  },
  {
   "cell_type": "code",
   "execution_count": null,
   "metadata": {},
   "outputs": [],
   "source": [
    "plot_texto = plt.plot(eixo_x, eixo_y,'k-+')\n",
    "plt.annotate('Platô', xy=(2, 1), xytext=(1.5, 1.5),\n",
    "             arrowprops=dict(facecolor='black', shrink=0.05),\n",
    "             )\n",
    "plt.show()"
   ]
  },
  {
   "cell_type": "code",
   "execution_count": null,
   "metadata": {},
   "outputs": [],
   "source": []
  }
 ],
 "metadata": {
  "kernelspec": {
   "display_name": "Python 3",
   "language": "python",
   "name": "python3"
  },
  "language_info": {
   "codemirror_mode": {
    "name": "ipython",
    "version": 3
   },
   "file_extension": ".py",
   "mimetype": "text/x-python",
   "name": "python",
   "nbconvert_exporter": "python",
   "pygments_lexer": "ipython3",
   "version": "3.8.5"
  }
 },
 "nbformat": 4,
 "nbformat_minor": 4
}
