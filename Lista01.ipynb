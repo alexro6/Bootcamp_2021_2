{
 "cells": [
  {
   "cell_type": "markdown",
   "metadata": {},
   "source": [
    "# Primeira Lista de Exercícios"
   ]
  },
  {
   "cell_type": "markdown",
   "metadata": {},
   "source": [
    "1) Dado a lista abaixo, imprima na tela o tipo de cada elemento da lista.\n",
    "A = ['Bootcamp', 1.5, 2.0, 3.5, 4, {1,2,3}, (5,6)]\n"
   ]
  },
  {
   "cell_type": "code",
   "execution_count": 1,
   "metadata": {},
   "outputs": [
    {
     "name": "stdout",
     "output_type": "stream",
     "text": [
      "<class 'str'>\n",
      "<class 'float'>\n",
      "<class 'float'>\n",
      "<class 'float'>\n",
      "<class 'int'>\n",
      "<class 'set'>\n",
      "<class 'tuple'>\n"
     ]
    }
   ],
   "source": [
    "A = ['Bootcamp', 1.5, 2.0, 3.5, 4, {1,2,3}, (5,6)]\n",
    "for elemento in A:\n",
    "    print(type(elemento))"
   ]
  },
  {
   "cell_type": "markdown",
   "metadata": {},
   "source": [
    "2) Usando o comando range(), escreva um código que imprima na tela uma lista em ordem\n",
    "reversa:\n",
    " Dado A = [1,2,3,4,20,40]\n",
    " Print : 40\n",
    " 20\n",
    " 4\n",
    " 3\n",
    " 2\n",
    " 1\n"
   ]
  },
  {
   "cell_type": "code",
   "execution_count": 6,
   "metadata": {},
   "outputs": [
    {
     "name": "stdout",
     "output_type": "stream",
     "text": [
      "5\n",
      "4\n",
      "3\n",
      "2\n",
      "1\n",
      "0\n"
     ]
    }
   ],
   "source": [
    "A = [1,2,3,4,20,40]\n",
    "for indice in range(5,-1,-1):\n",
    "    print(indice)\n",
    "   # print(A[indice])"
   ]
  },
  {
   "cell_type": "code",
   "execution_count": 12,
   "metadata": {},
   "outputs": [
    {
     "data": {
      "text/plain": [
       "4"
      ]
     },
     "execution_count": 12,
     "metadata": {},
     "output_type": "execute_result"
    }
   ],
   "source": [
    "lista_string = ['A', 'C', 'Carro', 'Banana']\n",
    "len(lista_string)"
   ]
  },
  {
   "cell_type": "code",
   "execution_count": 16,
   "metadata": {},
   "outputs": [
    {
     "name": "stdout",
     "output_type": "stream",
     "text": [
      "A\n",
      "C\n",
      "Carro\n",
      "Banana\n"
     ]
    }
   ],
   "source": [
    "for palavra in lista_string:\n",
    "    #print(indice)\n",
    "    print(palavra)"
   ]
  },
  {
   "cell_type": "code",
   "execution_count": null,
   "metadata": {},
   "outputs": [],
   "source": []
  },
  {
   "cell_type": "code",
   "execution_count": null,
   "metadata": {},
   "outputs": [],
   "source": []
  },
  {
   "cell_type": "markdown",
   "metadata": {},
   "source": [
    "3) Crie uma lista com 5 inteiros. Depois multiplique essa lista por 2. Observe e explique o\n",
    "resultado (vamos discutir em aula)\n",
    " Pseudo código: A = lista_inteiros\n",
    "\t \t \t B = A*2\n",
    "\t \t \t print(B) \t \t \t \t \t \t \t \t \n",
    "\n"
   ]
  },
  {
   "cell_type": "code",
   "execution_count": 3,
   "metadata": {},
   "outputs": [
    {
     "name": "stdout",
     "output_type": "stream",
     "text": [
      "[10, 15, 20, 25, 30, 10, 15, 20, 25, 30]\n"
     ]
    }
   ],
   "source": [
    "A = [10, 15, 20, 25, 30]\n",
    "B = A*2\n",
    "print(B)"
   ]
  },
  {
   "cell_type": "markdown",
   "metadata": {},
   "source": [
    "4) Dado a lista C = [1,3,5,9]. Escreva um código que retorne o quadrado de cada elemento dessa\n",
    "lista.\n",
    " Resposta a ser obtida : D = [1,9,25,81] -> quadrado de um número y é y*y "
   ]
  },
  {
   "cell_type": "code",
   "execution_count": 20,
   "metadata": {},
   "outputs": [
    {
     "data": {
      "text/plain": [
       "[1, 9, 25, 81]"
      ]
     },
     "execution_count": 20,
     "metadata": {},
     "output_type": "execute_result"
    }
   ],
   "source": [
    "C = [1,3,5,9]\n",
    "D = []\n",
    "for elemento in C:\n",
    "    D.append(elemento*elemento)\n",
    "D"
   ]
  },
  {
   "cell_type": "code",
   "execution_count": null,
   "metadata": {},
   "outputs": [],
   "source": []
  },
  {
   "cell_type": "code",
   "execution_count": null,
   "metadata": {},
   "outputs": [],
   "source": []
  },
  {
   "cell_type": "code",
   "execution_count": null,
   "metadata": {},
   "outputs": [],
   "source": []
  },
  {
   "cell_type": "code",
   "execution_count": null,
   "metadata": {},
   "outputs": [],
   "source": []
  },
  {
   "cell_type": "code",
   "execution_count": null,
   "metadata": {},
   "outputs": [],
   "source": []
  }
 ],
 "metadata": {
  "kernelspec": {
   "display_name": "Python 3",
   "language": "python",
   "name": "python3"
  },
  "language_info": {
   "codemirror_mode": {
    "name": "ipython",
    "version": 3
   },
   "file_extension": ".py",
   "mimetype": "text/x-python",
   "name": "python",
   "nbconvert_exporter": "python",
   "pygments_lexer": "ipython3",
   "version": "3.8.5"
  }
 },
 "nbformat": 4,
 "nbformat_minor": 4
}
