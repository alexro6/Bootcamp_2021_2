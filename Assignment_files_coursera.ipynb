{
 "cells": [
  {
   "cell_type": "markdown",
   "metadata": {},
   "source": [
    "### Laboratório de Arquivos do Coursera\n",
    "##### Curso: Python for Data Science <br> Semana 4 <br> Arquivos"
   ]
  },
  {
   "cell_type": "markdown",
   "metadata": {},
   "source": [
    "A primeira célula de código cria os arquivos com os quais vamos trabalhar:"
   ]
  },
  {
   "cell_type": "code",
   "execution_count": 1,
   "metadata": {},
   "outputs": [],
   "source": [
    "#Run this prior to starting the exercise\n",
    "from random import randint as rnd\n",
    "\n",
    "memReg = 'members.txt'\n",
    "exReg = 'inactive.txt'\n",
    "fee =('yes','no')\n",
    "\n",
    "def genFiles(current,old):\n",
    "    with open(current,'w+') as writefile: \n",
    "        writefile.write('Membership No  Date Joined  Active  \\n')\n",
    "        data = \"{:^13}  {:<11}  {:<6}\\n\"\n",
    "\n",
    "        for rowno in range(20):\n",
    "            date = str(rnd(2015,2020))+ '-' + str(rnd(1,12))+'-'+str(rnd(1,25))\n",
    "            writefile.write(data.format(rnd(10000,99999),date,fee[rnd(0,1)]))\n",
    "\n",
    "\n",
    "    with open(old,'w+') as writefile: \n",
    "        writefile.write('Membership No  Date Joined  Active  \\n')\n",
    "        data = \"{:^13}  {:<11}  {:<6}\\n\"\n",
    "        for rowno in range(3):\n",
    "            date = str(rnd(2015,2020))+ '-' + str(rnd(1,12))+'-'+str(rnd(1,25))\n",
    "            writefile.write(data.format(rnd(10000,99999),date,fee[1]))\n",
    "\n",
    "\n",
    "genFiles(memReg,exReg)\n"
   ]
  },
  {
   "cell_type": "markdown",
   "metadata": {},
   "source": [
    "Usamos \"with open\" para que os arquivos sejam fechados automaticamente ao final da tarefa.\n",
    "O arquivo \"memberts.txt\" é o arquivo do qual vamos retirar membros, então precisaremos lê-lo e depois escrever as informações atualizadas, por isso usamos o modo \"r+\" (ler e escrever). O arquivo \"inactive.txt\" será apenas \"apendado\", ou seja, informações serão acrescentadas após informações já existentes e não serão retiradas, por isso usamos o modo \"a+\" (apendar e ler)."
   ]
  },
  {
   "cell_type": "code",
   "execution_count": 2,
   "metadata": {},
   "outputs": [],
   "source": [
    "with open('members.txt','r+') as allmembers:      # Abre o arquivo\n",
    "    all_list = allmembers.readlines()             # Usa a função readlines() pra ler linha a linha e armazena numa lista\n",
    "    cabecalho = all_list[0]                       # Estabelece a primeira linha como cabeçalho \n",
    "    pos = cabecalho.find('Active')                # Encontra pelo cabeçalho a posição da informação de atividade do membro (Ativo = yes, não ativo = no)\n",
    "    with open('inactive.txt','a+') as exmembers:  # Abre arquivo de ex-membros para ser atualizado\n",
    "        for member in all_list[1:]:               # Varre a lista de membros, começando da segunda linha, ou seja, não considera o cabeçalho\n",
    "            if member[pos:pos+2]=='no':           # Verifica se na posição de atividade está \"no\" (não ativo)\n",
    "                exmember=all_list.pop(all_list.index(member))     # Retira o ex-membro da lista de membros  \n",
    "                exmembers.write(exmember)         # Escreve o membro retirado no passo anterior ao arquivo de ex-membros\n",
    "    allmembers.seek(0)                            # Manda o ponteiro do arquivo de membros para a posição zero\n",
    "    for actual_members in all_list:\n",
    "        allmembers.write(actual_members)          # Escreve a lista de membros atualizada\n",
    "    allmembers.truncate()                         # Apaga as informações existentes depois da lista atualizada"
   ]
  },
  {
   "cell_type": "code",
   "execution_count": 3,
   "metadata": {},
   "outputs": [
    {
     "name": "stdout",
     "output_type": "stream",
     "text": [
      "Active Members: \n",
      "\n",
      "\n",
      "Membership No  Date Joined  Active  \n",
      "    17654      2015-8-5     yes   \n",
      "    96728      2017-7-2     yes   \n",
      "    12106      2015-10-23   yes   \n",
      "    50584      2016-6-1     yes   \n",
      "    15547      2019-1-10    yes   \n",
      "    35136      2020-1-7     yes   \n",
      "    10312      2019-5-19    yes   \n",
      "    35459      2018-8-8     yes   \n",
      "    27608      2018-10-14   yes   \n",
      "    24740      2020-4-19    yes   \n",
      "    59476      2019-6-14    yes   \n",
      "    42056      2020-4-1     yes   \n",
      "\n",
      "Inactive Members: \n",
      "\n",
      "\n",
      "Membership No  Date Joined  Active  \n",
      "    24673      2017-7-4     no    \n",
      "    42881      2018-5-6     no    \n",
      "    78130      2020-8-22    no    \n",
      "    92014      2019-4-22    no    \n",
      "    38854      2018-12-24   no    \n",
      "    11098      2017-4-10    no    \n",
      "    22470      2020-3-25    no    \n",
      "    17206      2020-10-2    no    \n",
      "    41528      2016-8-4     no    \n",
      "    51646      2015-1-1     no    \n",
      "    86380      2017-3-20    no    \n",
      "\n"
     ]
    }
   ],
   "source": [
    "\n",
    "def cleanFiles(currentMem,exMem):\n",
    "    '''\n",
    "    currentMem: File containing list of current members\n",
    "    exMem: File containing list of old members\n",
    "    \n",
    "    Removes all rows from currentMem containing 'no' and appends them to exMem\n",
    "    '''\n",
    "    with open(memReg,'r+') as allmembers: \n",
    "        all_list = allmembers.readlines()\n",
    "        \n",
    "\n",
    "\n",
    "# Code to help you see the files\n",
    "# Leave as is\n",
    "memReg = 'members.txt'\n",
    "exReg = 'inactive.txt'\n",
    "cleanFiles(memReg,exReg)\n",
    "\n",
    "\n",
    "headers = \"Membership No  Date Joined  Active  \\n\"\n",
    "with open(memReg,'r') as readFile:\n",
    "    print(\"Active Members: \\n\\n\")\n",
    "    print(readFile.read())\n",
    "    \n",
    "with open(exReg,'r') as readFile:\n",
    "    print(\"Inactive Members: \\n\\n\")\n",
    "    print(readFile.read())\n",
    "                \n",
    "    "
   ]
  },
  {
   "cell_type": "code",
   "execution_count": null,
   "metadata": {},
   "outputs": [],
   "source": []
  }
 ],
 "metadata": {
  "kernelspec": {
   "display_name": "Python 3",
   "language": "python",
   "name": "python3"
  },
  "language_info": {
   "codemirror_mode": {
    "name": "ipython",
    "version": 3
   },
   "file_extension": ".py",
   "mimetype": "text/x-python",
   "name": "python",
   "nbconvert_exporter": "python",
   "pygments_lexer": "ipython3",
   "version": "3.8.5"
  }
 },
 "nbformat": 4,
 "nbformat_minor": 4
}
